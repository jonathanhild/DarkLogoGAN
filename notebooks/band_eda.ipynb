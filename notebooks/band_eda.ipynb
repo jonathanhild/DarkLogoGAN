{
 "cells": [
  {
   "cell_type": "markdown",
   "source": [
    "# Exploratory Data Analysis of Death Metal and Black Metal Band Data"
   ],
   "metadata": {}
  },
  {
   "cell_type": "code",
   "execution_count": 1,
   "source": [
    "import os\n",
    "import pandas as pd\n",
    "import matplotlib.pyplot as plt\n",
    "import seaborn as sns"
   ],
   "outputs": [],
   "metadata": {}
  },
  {
   "cell_type": "code",
   "execution_count": 2,
   "source": [
    "filepath = os.path.join('..', 'data', 'band_data.csv')\n",
    "metal = pd.read_csv(filepath)\n",
    "black_metal = metal[metal['genre'] == 'black']\n",
    "death_metal = metal[metal['genre'] == 'death']"
   ],
   "outputs": [],
   "metadata": {}
  },
  {
   "cell_type": "code",
   "execution_count": 3,
   "source": [
    "metal.head()"
   ],
   "outputs": [
    {
     "output_type": "execute_result",
     "data": {
      "text/html": [
       "<div>\n",
       "<style scoped>\n",
       "    .dataframe tbody tr th:only-of-type {\n",
       "        vertical-align: middle;\n",
       "    }\n",
       "\n",
       "    .dataframe tbody tr th {\n",
       "        vertical-align: top;\n",
       "    }\n",
       "\n",
       "    .dataframe thead th {\n",
       "        text-align: right;\n",
       "    }\n",
       "</style>\n",
       "<table border=\"1\" class=\"dataframe\">\n",
       "  <thead>\n",
       "    <tr style=\"text-align: right;\">\n",
       "      <th></th>\n",
       "      <th>id</th>\n",
       "      <th>url</th>\n",
       "      <th>name</th>\n",
       "      <th>country</th>\n",
       "      <th>genre</th>\n",
       "      <th>full_genre</th>\n",
       "      <th>status</th>\n",
       "    </tr>\n",
       "  </thead>\n",
       "  <tbody>\n",
       "    <tr>\n",
       "      <th>0</th>\n",
       "      <td>3540355748</td>\n",
       "      <td>https://www.metal-archives.com/bands/%DB%9E/35...</td>\n",
       "      <td>۞</td>\n",
       "      <td>United States</td>\n",
       "      <td>black</td>\n",
       "      <td>Black Metal</td>\n",
       "      <td>Split-up</td>\n",
       "    </tr>\n",
       "    <tr>\n",
       "      <th>1</th>\n",
       "      <td>3540353044</td>\n",
       "      <td>https://www.metal-archives.com/bands/-_-_-/354...</td>\n",
       "      <td>- - -</td>\n",
       "      <td>Sweden</td>\n",
       "      <td>black</td>\n",
       "      <td>Atmospheric Black Metal</td>\n",
       "      <td>Unknown</td>\n",
       "    </tr>\n",
       "    <tr>\n",
       "      <th>2</th>\n",
       "      <td>3540409614</td>\n",
       "      <td>https://www.metal-archives.com/bands/%E2%80%94...</td>\n",
       "      <td>—</td>\n",
       "      <td>China</td>\n",
       "      <td>black</td>\n",
       "      <td>Raw Black Metal</td>\n",
       "      <td>Changed name</td>\n",
       "    </tr>\n",
       "    <tr>\n",
       "      <th>3</th>\n",
       "      <td>3540443454</td>\n",
       "      <td>https://www.metal-archives.com/bands/%3AInfern...</td>\n",
       "      <td>:Inferno 9:</td>\n",
       "      <td>Italy</td>\n",
       "      <td>black</td>\n",
       "      <td>Black Metal</td>\n",
       "      <td>Active</td>\n",
       "    </tr>\n",
       "    <tr>\n",
       "      <th>4</th>\n",
       "      <td>3540469859</td>\n",
       "      <td>https://www.metal-archives.com/bands/%3AK%C3%A...</td>\n",
       "      <td>:Kælte:</td>\n",
       "      <td>Germany</td>\n",
       "      <td>black</td>\n",
       "      <td>Atmospheric Black Metal</td>\n",
       "      <td>Active</td>\n",
       "    </tr>\n",
       "  </tbody>\n",
       "</table>\n",
       "</div>"
      ],
      "text/plain": [
       "           id                                                url         name  \\\n",
       "0  3540355748  https://www.metal-archives.com/bands/%DB%9E/35...            ۞   \n",
       "1  3540353044  https://www.metal-archives.com/bands/-_-_-/354...        - - -   \n",
       "2  3540409614  https://www.metal-archives.com/bands/%E2%80%94...            —   \n",
       "3  3540443454  https://www.metal-archives.com/bands/%3AInfern...  :Inferno 9:   \n",
       "4  3540469859  https://www.metal-archives.com/bands/%3AK%C3%A...      :Kælte:   \n",
       "\n",
       "         country  genre               full_genre        status  \n",
       "0  United States  black              Black Metal      Split-up  \n",
       "1         Sweden  black  Atmospheric Black Metal       Unknown  \n",
       "2          China  black          Raw Black Metal  Changed name  \n",
       "3          Italy  black              Black Metal        Active  \n",
       "4        Germany  black  Atmospheric Black Metal        Active  "
      ]
     },
     "metadata": {},
     "execution_count": 3
    }
   ],
   "metadata": {}
  },
  {
   "cell_type": "code",
   "execution_count": 4,
   "source": [
    "black_metal.head()"
   ],
   "outputs": [
    {
     "output_type": "execute_result",
     "data": {
      "text/html": [
       "<div>\n",
       "<style scoped>\n",
       "    .dataframe tbody tr th:only-of-type {\n",
       "        vertical-align: middle;\n",
       "    }\n",
       "\n",
       "    .dataframe tbody tr th {\n",
       "        vertical-align: top;\n",
       "    }\n",
       "\n",
       "    .dataframe thead th {\n",
       "        text-align: right;\n",
       "    }\n",
       "</style>\n",
       "<table border=\"1\" class=\"dataframe\">\n",
       "  <thead>\n",
       "    <tr style=\"text-align: right;\">\n",
       "      <th></th>\n",
       "      <th>id</th>\n",
       "      <th>url</th>\n",
       "      <th>name</th>\n",
       "      <th>country</th>\n",
       "      <th>genre</th>\n",
       "      <th>full_genre</th>\n",
       "      <th>status</th>\n",
       "    </tr>\n",
       "  </thead>\n",
       "  <tbody>\n",
       "    <tr>\n",
       "      <th>0</th>\n",
       "      <td>3540355748</td>\n",
       "      <td>https://www.metal-archives.com/bands/%DB%9E/35...</td>\n",
       "      <td>۞</td>\n",
       "      <td>United States</td>\n",
       "      <td>black</td>\n",
       "      <td>Black Metal</td>\n",
       "      <td>Split-up</td>\n",
       "    </tr>\n",
       "    <tr>\n",
       "      <th>1</th>\n",
       "      <td>3540353044</td>\n",
       "      <td>https://www.metal-archives.com/bands/-_-_-/354...</td>\n",
       "      <td>- - -</td>\n",
       "      <td>Sweden</td>\n",
       "      <td>black</td>\n",
       "      <td>Atmospheric Black Metal</td>\n",
       "      <td>Unknown</td>\n",
       "    </tr>\n",
       "    <tr>\n",
       "      <th>2</th>\n",
       "      <td>3540409614</td>\n",
       "      <td>https://www.metal-archives.com/bands/%E2%80%94...</td>\n",
       "      <td>—</td>\n",
       "      <td>China</td>\n",
       "      <td>black</td>\n",
       "      <td>Raw Black Metal</td>\n",
       "      <td>Changed name</td>\n",
       "    </tr>\n",
       "    <tr>\n",
       "      <th>3</th>\n",
       "      <td>3540443454</td>\n",
       "      <td>https://www.metal-archives.com/bands/%3AInfern...</td>\n",
       "      <td>:Inferno 9:</td>\n",
       "      <td>Italy</td>\n",
       "      <td>black</td>\n",
       "      <td>Black Metal</td>\n",
       "      <td>Active</td>\n",
       "    </tr>\n",
       "    <tr>\n",
       "      <th>4</th>\n",
       "      <td>3540469859</td>\n",
       "      <td>https://www.metal-archives.com/bands/%3AK%C3%A...</td>\n",
       "      <td>:Kælte:</td>\n",
       "      <td>Germany</td>\n",
       "      <td>black</td>\n",
       "      <td>Atmospheric Black Metal</td>\n",
       "      <td>Active</td>\n",
       "    </tr>\n",
       "  </tbody>\n",
       "</table>\n",
       "</div>"
      ],
      "text/plain": [
       "           id                                                url         name  \\\n",
       "0  3540355748  https://www.metal-archives.com/bands/%DB%9E/35...            ۞   \n",
       "1  3540353044  https://www.metal-archives.com/bands/-_-_-/354...        - - -   \n",
       "2  3540409614  https://www.metal-archives.com/bands/%E2%80%94...            —   \n",
       "3  3540443454  https://www.metal-archives.com/bands/%3AInfern...  :Inferno 9:   \n",
       "4  3540469859  https://www.metal-archives.com/bands/%3AK%C3%A...      :Kælte:   \n",
       "\n",
       "         country  genre               full_genre        status  \n",
       "0  United States  black              Black Metal      Split-up  \n",
       "1         Sweden  black  Atmospheric Black Metal       Unknown  \n",
       "2          China  black          Raw Black Metal  Changed name  \n",
       "3          Italy  black              Black Metal        Active  \n",
       "4        Germany  black  Atmospheric Black Metal        Active  "
      ]
     },
     "metadata": {},
     "execution_count": 4
    }
   ],
   "metadata": {}
  },
  {
   "cell_type": "code",
   "execution_count": 5,
   "source": [
    "death_metal.head()"
   ],
   "outputs": [
    {
     "output_type": "execute_result",
     "data": {
      "text/html": [
       "<div>\n",
       "<style scoped>\n",
       "    .dataframe tbody tr th:only-of-type {\n",
       "        vertical-align: middle;\n",
       "    }\n",
       "\n",
       "    .dataframe tbody tr th {\n",
       "        vertical-align: top;\n",
       "    }\n",
       "\n",
       "    .dataframe thead th {\n",
       "        text-align: right;\n",
       "    }\n",
       "</style>\n",
       "<table border=\"1\" class=\"dataframe\">\n",
       "  <thead>\n",
       "    <tr style=\"text-align: right;\">\n",
       "      <th></th>\n",
       "      <th>id</th>\n",
       "      <th>url</th>\n",
       "      <th>name</th>\n",
       "      <th>country</th>\n",
       "      <th>genre</th>\n",
       "      <th>full_genre</th>\n",
       "      <th>status</th>\n",
       "    </tr>\n",
       "  </thead>\n",
       "  <tbody>\n",
       "    <tr>\n",
       "      <th>41883</th>\n",
       "      <td>3540273892</td>\n",
       "      <td>https://www.metal-archives.com/bands/%3ATremor...</td>\n",
       "      <td>:Tremor</td>\n",
       "      <td>Russia</td>\n",
       "      <td>death</td>\n",
       "      <td>Death Metal/Grindcore</td>\n",
       "      <td>Active</td>\n",
       "    </tr>\n",
       "    <tr>\n",
       "      <th>41884</th>\n",
       "      <td>16265</td>\n",
       "      <td>https://www.metal-archives.com/bands/%21T.O.O....</td>\n",
       "      <td>!T.O.O.H.!</td>\n",
       "      <td>Czechia</td>\n",
       "      <td>death</td>\n",
       "      <td>Progressive Death Metal/Grindcore</td>\n",
       "      <td>Active</td>\n",
       "    </tr>\n",
       "    <tr>\n",
       "      <th>41885</th>\n",
       "      <td>109481</td>\n",
       "      <td>https://www.metal-archives.com/bands/%21%C3%BA...</td>\n",
       "      <td>!úl..</td>\n",
       "      <td>Czechia</td>\n",
       "      <td>death</td>\n",
       "      <td>Death/Black Metal</td>\n",
       "      <td>Split-up</td>\n",
       "    </tr>\n",
       "    <tr>\n",
       "      <th>41886</th>\n",
       "      <td>19272</td>\n",
       "      <td>https://www.metal-archives.com/bands/...and_He...</td>\n",
       "      <td>...and Here I Lie</td>\n",
       "      <td>United States</td>\n",
       "      <td>death</td>\n",
       "      <td>Death/Doom Metal</td>\n",
       "      <td>Split-up</td>\n",
       "    </tr>\n",
       "    <tr>\n",
       "      <th>41887</th>\n",
       "      <td>24544</td>\n",
       "      <td>https://www.metal-archives.com/bands/...and_Th...</td>\n",
       "      <td>...and They Will Meet God</td>\n",
       "      <td>United States</td>\n",
       "      <td>death</td>\n",
       "      <td>Melodic Death Metal/Crossover</td>\n",
       "      <td>Split-up</td>\n",
       "    </tr>\n",
       "  </tbody>\n",
       "</table>\n",
       "</div>"
      ],
      "text/plain": [
       "               id                                                url  \\\n",
       "41883  3540273892  https://www.metal-archives.com/bands/%3ATremor...   \n",
       "41884       16265  https://www.metal-archives.com/bands/%21T.O.O....   \n",
       "41885      109481  https://www.metal-archives.com/bands/%21%C3%BA...   \n",
       "41886       19272  https://www.metal-archives.com/bands/...and_He...   \n",
       "41887       24544  https://www.metal-archives.com/bands/...and_Th...   \n",
       "\n",
       "                            name        country  genre  \\\n",
       "41883                    :Tremor         Russia  death   \n",
       "41884                 !T.O.O.H.!        Czechia  death   \n",
       "41885                      !úl..        Czechia  death   \n",
       "41886          ...and Here I Lie  United States  death   \n",
       "41887  ...and They Will Meet God  United States  death   \n",
       "\n",
       "                              full_genre    status  \n",
       "41883              Death Metal/Grindcore    Active  \n",
       "41884  Progressive Death Metal/Grindcore    Active  \n",
       "41885                  Death/Black Metal  Split-up  \n",
       "41886                   Death/Doom Metal  Split-up  \n",
       "41887      Melodic Death Metal/Crossover  Split-up  "
      ]
     },
     "metadata": {},
     "execution_count": 5
    }
   ],
   "metadata": {}
  },
  {
   "cell_type": "markdown",
   "source": [
    "## Band Names"
   ],
   "metadata": {}
  },
  {
   "cell_type": "code",
   "execution_count": 6,
   "source": [
    "metal['name'].value_counts(ascending=False)"
   ],
   "outputs": [
    {
     "output_type": "execute_result",
     "data": {
      "text/plain": [
       "Abaddon               32\n",
       "Mortuary              29\n",
       "Necrosis              28\n",
       "Legion                26\n",
       "Demogorgon            23\n",
       "                      ..\n",
       "Discrementor           1\n",
       "Sinister Superstar     1\n",
       "Perpetua               1\n",
       "Subtrash               1\n",
       "Blut Formicarium       1\n",
       "Name: name, Length: 73970, dtype: int64"
      ]
     },
     "metadata": {},
     "execution_count": 6
    }
   ],
   "metadata": {}
  },
  {
   "cell_type": "markdown",
   "source": [
    "## Comparison of Black and Death Genres"
   ],
   "metadata": {}
  },
  {
   "cell_type": "code",
   "execution_count": 7,
   "source": [
    "metal['genre'].value_counts()"
   ],
   "outputs": [
    {
     "output_type": "execute_result",
     "data": {
      "text/plain": [
       "death    51151\n",
       "black    41883\n",
       "Name: genre, dtype: int64"
      ]
     },
     "metadata": {},
     "execution_count": 7
    }
   ],
   "metadata": {}
  },
  {
   "cell_type": "code",
   "execution_count": 8,
   "source": [
    "fig, ax = plt.subplots(figsize=(10,6))\n",
    "sns.countplot(data=metal, x='genre', ax=ax)\n",
    "ax.set_title('Size of Black and Death Genres')\n",
    "plt.show()"
   ],
   "outputs": [
    {
     "output_type": "display_data",
     "data": {
      "image/png": "[encoded data removed]",
      "text/plain": [
       "<Figure size 720x432 with 1 Axes>"
      ]
     },
     "metadata": {
      "needs_background": "light"
     }
    }
   ],
   "metadata": {}
  },
  {
   "cell_type": "markdown",
   "source": [
    "## Countries of Origin for Black and Death Metal Bands"
   ],
   "metadata": {}
  },
  {
   "cell_type": "code",
   "execution_count": 9,
   "source": [
    "metal_top_20_country = metal['country'].value_counts(ascending=False).head(20)"
   ],
   "outputs": [],
   "metadata": {}
  },
  {
   "cell_type": "code",
   "execution_count": 10,
   "source": [
    "fig, ax = plt.subplots(figsize=(10,6))\n",
    "sns.barplot(x=metal_top_20_country.index, y=metal_top_20_country, ax=ax)\n",
    "ax.set_title('Country of Origin for Black and Death Metal Bands')\n",
    "ax.set_xticklabels(metal_top_20_country.index, rotation=90)\n",
    "plt.show()"
   ],
   "outputs": [
    {
     "output_type": "display_data",
     "data": {
      "image/png": "[encoded data removed]",
      "text/plain": [
       "<Figure size 720x432 with 1 Axes>"
      ]
     },
     "metadata": {
      "needs_background": "light"
     }
    }
   ],
   "metadata": {}
  },
  {
   "cell_type": "code",
   "execution_count": 11,
   "source": [
    "black_metal_top_20_country = black_metal['country'].value_counts(ascending=False).head(20)"
   ],
   "outputs": [],
   "metadata": {}
  },
  {
   "cell_type": "code",
   "execution_count": 12,
   "source": [
    "fig, ax = plt.subplots(figsize=(10,6))\n",
    "sns.barplot(x=black_metal_top_20_country.index, y=black_metal_top_20_country, ax=ax)\n",
    "ax.set_title('Country of Origin for Black Metal Bands')\n",
    "ax.set_xticklabels(black_metal_top_20_country.index, rotation=90)\n",
    "plt.show()"
   ],
   "outputs": [
    {
     "output_type": "display_data",
     "data": {
      "image/png": "[encoded data removed]",
      "text/plain": [
       "<Figure size 720x432 with 1 Axes>"
      ]
     },
     "metadata": {
      "needs_background": "light"
     }
    }
   ],
   "metadata": {}
  },
  {
   "cell_type": "code",
   "execution_count": 13,
   "source": [
    "death_metal_top_20_country = death_metal['country'].value_counts(ascending=False).head(20)"
   ],
   "outputs": [],
   "metadata": {}
  },
  {
   "cell_type": "code",
   "execution_count": 14,
   "source": [
    "fig, ax = plt.subplots(figsize=(10,6))\n",
    "sns.barplot(x=death_metal_top_20_country.index, y=death_metal_top_20_country, ax=ax)\n",
    "ax.set_title('Country of Origin for Death Metal Bands')\n",
    "ax.set_xticklabels(death_metal_top_20_country.index, rotation=90)\n",
    "plt.show()"
   ],
   "outputs": [
    {
     "output_type": "display_data",
     "data": {
      "image/png": "[encoded data removed]",
      "text/plain": [
       "<Figure size 720x432 with 1 Axes>"
      ]
     },
     "metadata": {
      "needs_background": "light"
     }
    }
   ],
   "metadata": {}
  },
  {
   "cell_type": "markdown",
   "source": [
    "## Exploring The Full Genre Column"
   ],
   "metadata": {}
  },
  {
   "cell_type": "code",
   "execution_count": 15,
   "source": [
    "metal['full_genre'].value_counts()"
   ],
   "outputs": [
    {
     "output_type": "execute_result",
     "data": {
      "text/plain": [
       "Black Metal                                        18791\n",
       "Death Metal                                        12292\n",
       "Black/Death Metal                                   6014\n",
       "Melodic Death Metal                                 3790\n",
       "Death/Thrash Metal                                  3337\n",
       "                                                   ...  \n",
       "Death Metal (early); Heavy/Gothic Metal (later)        1\n",
       "Ambient (early), Depressive Black Metal (later)        1\n",
       "Avant-garde/Atmospheric Blackened Doom Metal           1\n",
       "Industrial Black Metal/Martial Dark Ambient            1\n",
       "Black Metal/Black 'n' roll                             1\n",
       "Name: full_genre, Length: 5401, dtype: int64"
      ]
     },
     "metadata": {},
     "execution_count": 15
    }
   ],
   "metadata": {}
  },
  {
   "cell_type": "code",
   "execution_count": 35,
   "source": [
    "full_genre_df = metal['full_genre']\\\n",
    "    .str.replace('Metal', '').str.replace('\\(.*\\)', '', regex=True)\\\n",
    "    .str.split(';|/', expand=True)\n",
    "mapper_dict = {\n",
    "    0: 'genre_1', 1: 'genre_2', 2: 'genre_3', 3: 'genre_4', \n",
    "    4: 'genre_5', 5: 'genre_6', 6: 'genre_7', 7: 'genre_8'\n",
    "    }\n",
    "full_genre_df = full_genre_df.rename(mapper_dict, axis=1)"
   ],
   "outputs": [],
   "metadata": {}
  },
  {
   "cell_type": "code",
   "execution_count": 36,
   "source": [
    "full_genre_df.head(20)"
   ],
   "outputs": [
    {
     "output_type": "execute_result",
     "data": {
      "text/html": [
       "<div>\n",
       "<style scoped>\n",
       "    .dataframe tbody tr th:only-of-type {\n",
       "        vertical-align: middle;\n",
       "    }\n",
       "\n",
       "    .dataframe tbody tr th {\n",
       "        vertical-align: top;\n",
       "    }\n",
       "\n",
       "    .dataframe thead th {\n",
       "        text-align: right;\n",
       "    }\n",
       "</style>\n",
       "<table border=\"1\" class=\"dataframe\">\n",
       "  <thead>\n",
       "    <tr style=\"text-align: right;\">\n",
       "      <th></th>\n",
       "      <th>genre_1</th>\n",
       "      <th>genre_2</th>\n",
       "      <th>genre_3</th>\n",
       "      <th>genre_4</th>\n",
       "      <th>genre_5</th>\n",
       "      <th>genre_6</th>\n",
       "      <th>genre_7</th>\n",
       "      <th>genre_8</th>\n",
       "    </tr>\n",
       "  </thead>\n",
       "  <tbody>\n",
       "    <tr>\n",
       "      <th>0</th>\n",
       "      <td>Black</td>\n",
       "      <td>None</td>\n",
       "      <td>None</td>\n",
       "      <td>None</td>\n",
       "      <td>None</td>\n",
       "      <td>None</td>\n",
       "      <td>None</td>\n",
       "      <td>None</td>\n",
       "    </tr>\n",
       "    <tr>\n",
       "      <th>1</th>\n",
       "      <td>Atmospheric Black</td>\n",
       "      <td>None</td>\n",
       "      <td>None</td>\n",
       "      <td>None</td>\n",
       "      <td>None</td>\n",
       "      <td>None</td>\n",
       "      <td>None</td>\n",
       "      <td>None</td>\n",
       "    </tr>\n",
       "    <tr>\n",
       "      <th>2</th>\n",
       "      <td>Raw Black</td>\n",
       "      <td>None</td>\n",
       "      <td>None</td>\n",
       "      <td>None</td>\n",
       "      <td>None</td>\n",
       "      <td>None</td>\n",
       "      <td>None</td>\n",
       "      <td>None</td>\n",
       "    </tr>\n",
       "    <tr>\n",
       "      <th>3</th>\n",
       "      <td>Black</td>\n",
       "      <td>None</td>\n",
       "      <td>None</td>\n",
       "      <td>None</td>\n",
       "      <td>None</td>\n",
       "      <td>None</td>\n",
       "      <td>None</td>\n",
       "      <td>None</td>\n",
       "    </tr>\n",
       "    <tr>\n",
       "      <th>4</th>\n",
       "      <td>Atmospheric Black</td>\n",
       "      <td>None</td>\n",
       "      <td>None</td>\n",
       "      <td>None</td>\n",
       "      <td>None</td>\n",
       "      <td>None</td>\n",
       "      <td>None</td>\n",
       "      <td>None</td>\n",
       "    </tr>\n",
       "    <tr>\n",
       "      <th>5</th>\n",
       "      <td>Depressive Black</td>\n",
       "      <td>None</td>\n",
       "      <td>None</td>\n",
       "      <td>None</td>\n",
       "      <td>None</td>\n",
       "      <td>None</td>\n",
       "      <td>None</td>\n",
       "      <td>None</td>\n",
       "    </tr>\n",
       "    <tr>\n",
       "      <th>6</th>\n",
       "      <td>Death</td>\n",
       "      <td>Black</td>\n",
       "      <td>None</td>\n",
       "      <td>None</td>\n",
       "      <td>None</td>\n",
       "      <td>None</td>\n",
       "      <td>None</td>\n",
       "      <td>None</td>\n",
       "    </tr>\n",
       "    <tr>\n",
       "      <th>7</th>\n",
       "      <td>Depressive Black</td>\n",
       "      <td>None</td>\n",
       "      <td>None</td>\n",
       "      <td>None</td>\n",
       "      <td>None</td>\n",
       "      <td>None</td>\n",
       "      <td>None</td>\n",
       "      <td>None</td>\n",
       "    </tr>\n",
       "    <tr>\n",
       "      <th>8</th>\n",
       "      <td>Black</td>\n",
       "      <td>None</td>\n",
       "      <td>None</td>\n",
       "      <td>None</td>\n",
       "      <td>None</td>\n",
       "      <td>None</td>\n",
       "      <td>None</td>\n",
       "      <td>None</td>\n",
       "    </tr>\n",
       "    <tr>\n",
       "      <th>9</th>\n",
       "      <td>Atmospheric Black</td>\n",
       "      <td>None</td>\n",
       "      <td>None</td>\n",
       "      <td>None</td>\n",
       "      <td>None</td>\n",
       "      <td>None</td>\n",
       "      <td>None</td>\n",
       "      <td>None</td>\n",
       "    </tr>\n",
       "    <tr>\n",
       "      <th>10</th>\n",
       "      <td>Symphonic Black</td>\n",
       "      <td>None</td>\n",
       "      <td>None</td>\n",
       "      <td>None</td>\n",
       "      <td>None</td>\n",
       "      <td>None</td>\n",
       "      <td>None</td>\n",
       "      <td>None</td>\n",
       "    </tr>\n",
       "    <tr>\n",
       "      <th>11</th>\n",
       "      <td>Black</td>\n",
       "      <td>None</td>\n",
       "      <td>None</td>\n",
       "      <td>None</td>\n",
       "      <td>None</td>\n",
       "      <td>None</td>\n",
       "      <td>None</td>\n",
       "      <td>None</td>\n",
       "    </tr>\n",
       "    <tr>\n",
       "      <th>12</th>\n",
       "      <td>Black</td>\n",
       "      <td>Dark Ambient</td>\n",
       "      <td>None</td>\n",
       "      <td>None</td>\n",
       "      <td>None</td>\n",
       "      <td>None</td>\n",
       "      <td>None</td>\n",
       "      <td>None</td>\n",
       "    </tr>\n",
       "    <tr>\n",
       "      <th>13</th>\n",
       "      <td>Symphonic Black</td>\n",
       "      <td>Death</td>\n",
       "      <td>None</td>\n",
       "      <td>None</td>\n",
       "      <td>None</td>\n",
       "      <td>None</td>\n",
       "      <td>None</td>\n",
       "      <td>None</td>\n",
       "    </tr>\n",
       "    <tr>\n",
       "      <th>14</th>\n",
       "      <td>Black</td>\n",
       "      <td>Death</td>\n",
       "      <td>None</td>\n",
       "      <td>None</td>\n",
       "      <td>None</td>\n",
       "      <td>None</td>\n",
       "      <td>None</td>\n",
       "      <td>None</td>\n",
       "    </tr>\n",
       "    <tr>\n",
       "      <th>15</th>\n",
       "      <td>Black</td>\n",
       "      <td>None</td>\n",
       "      <td>None</td>\n",
       "      <td>None</td>\n",
       "      <td>None</td>\n",
       "      <td>None</td>\n",
       "      <td>None</td>\n",
       "      <td>None</td>\n",
       "    </tr>\n",
       "    <tr>\n",
       "      <th>16</th>\n",
       "      <td>Black</td>\n",
       "      <td>Doom</td>\n",
       "      <td>None</td>\n",
       "      <td>None</td>\n",
       "      <td>None</td>\n",
       "      <td>None</td>\n",
       "      <td>None</td>\n",
       "      <td>None</td>\n",
       "    </tr>\n",
       "    <tr>\n",
       "      <th>17</th>\n",
       "      <td>Depressive Black</td>\n",
       "      <td>None</td>\n",
       "      <td>None</td>\n",
       "      <td>None</td>\n",
       "      <td>None</td>\n",
       "      <td>None</td>\n",
       "      <td>None</td>\n",
       "      <td>None</td>\n",
       "    </tr>\n",
       "    <tr>\n",
       "      <th>18</th>\n",
       "      <td>Black</td>\n",
       "      <td>Grindcore</td>\n",
       "      <td>None</td>\n",
       "      <td>None</td>\n",
       "      <td>None</td>\n",
       "      <td>None</td>\n",
       "      <td>None</td>\n",
       "      <td>None</td>\n",
       "    </tr>\n",
       "    <tr>\n",
       "      <th>19</th>\n",
       "      <td>Post-Black</td>\n",
       "      <td>None</td>\n",
       "      <td>None</td>\n",
       "      <td>None</td>\n",
       "      <td>None</td>\n",
       "      <td>None</td>\n",
       "      <td>None</td>\n",
       "      <td>None</td>\n",
       "    </tr>\n",
       "  </tbody>\n",
       "</table>\n",
       "</div>"
      ],
      "text/plain": [
       "               genre_1       genre_2 genre_3 genre_4 genre_5 genre_6 genre_7  \\\n",
       "0               Black           None    None    None    None    None    None   \n",
       "1   Atmospheric Black           None    None    None    None    None    None   \n",
       "2           Raw Black           None    None    None    None    None    None   \n",
       "3               Black           None    None    None    None    None    None   \n",
       "4   Atmospheric Black           None    None    None    None    None    None   \n",
       "5    Depressive Black           None    None    None    None    None    None   \n",
       "6                Death        Black     None    None    None    None    None   \n",
       "7   Depressive Black            None    None    None    None    None    None   \n",
       "8               Black           None    None    None    None    None    None   \n",
       "9   Atmospheric Black           None    None    None    None    None    None   \n",
       "10   Symphonic Black            None    None    None    None    None    None   \n",
       "11              Black           None    None    None    None    None    None   \n",
       "12              Black   Dark Ambient    None    None    None    None    None   \n",
       "13     Symphonic Black       Death      None    None    None    None    None   \n",
       "14               Black        Death     None    None    None    None    None   \n",
       "15              Black           None    None    None    None    None    None   \n",
       "16               Black         Doom     None    None    None    None    None   \n",
       "17   Depressive Black           None    None    None    None    None    None   \n",
       "18              Black      Grindcore    None    None    None    None    None   \n",
       "19         Post-Black           None    None    None    None    None    None   \n",
       "\n",
       "   genre_8  \n",
       "0     None  \n",
       "1     None  \n",
       "2     None  \n",
       "3     None  \n",
       "4     None  \n",
       "5     None  \n",
       "6     None  \n",
       "7     None  \n",
       "8     None  \n",
       "9     None  \n",
       "10    None  \n",
       "11    None  \n",
       "12    None  \n",
       "13    None  \n",
       "14    None  \n",
       "15    None  \n",
       "16    None  \n",
       "17    None  \n",
       "18    None  \n",
       "19    None  "
      ]
     },
     "metadata": {},
     "execution_count": 36
    }
   ],
   "metadata": {}
  }
 ],
 "metadata": {
  "orig_nbformat": 4,
  "language_info": {
   "name": "python",
   "version": "3.8.10",
   "mimetype": "text/x-python",
   "codemirror_mode": {
    "name": "ipython",
    "version": 3
   },
   "pygments_lexer": "ipython3",
   "nbconvert_exporter": "python",
   "file_extension": ".py"
  },
  "kernelspec": {
   "name": "python3",
   "display_name": "Python 3.8.10 64-bit ('datascience': conda)"
  },
  "interpreter": {
   "hash": "e3f3ec2076c260817e49efdbc6b3b306de22307c76198cff8d372475acecaecf"
  }
 },
 "nbformat": 4,
 "nbformat_minor": 2
}