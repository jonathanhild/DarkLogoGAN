{
 "cells": [
  {
   "cell_type": "markdown",
   "source": [
    "# Exploratory Data Analysis of The `band_data` Data Table"
   ],
   "metadata": {}
  },
  {
   "cell_type": "code",
   "execution_count": 1,
   "source": [
    "import os\n",
    "\n",
    "# Data Manipulation\n",
    "import pandas as pd\n",
    "import numpy as np\n",
    "\n",
    "# Visualization libraries\n",
    "import matplotlib.pyplot as plt\n",
    "import seaborn as sns"
   ],
   "outputs": [],
   "metadata": {}
  },
  {
   "cell_type": "code",
   "execution_count": 2,
   "source": [
    "filepath = os.path.join('..', 'data', 'band_data.csv')\n",
    "metal = pd.read_csv(filepath, index_col=0)\n",
    "black_metal = metal[metal['genre'] == 'black']\n",
    "death_metal = metal[metal['genre'] == 'death']"
   ],
   "outputs": [],
   "metadata": {}
  },
  {
   "cell_type": "code",
   "execution_count": 3,
   "source": [
    "metal.head()"
   ],
   "outputs": [
    {
     "output_type": "execute_result",
     "data": {
      "text/html": [
       "<div>\n",
       "<style scoped>\n",
       "    .dataframe tbody tr th:only-of-type {\n",
       "        vertical-align: middle;\n",
       "    }\n",
       "\n",
       "    .dataframe tbody tr th {\n",
       "        vertical-align: top;\n",
       "    }\n",
       "\n",
       "    .dataframe thead th {\n",
       "        text-align: right;\n",
       "    }\n",
       "</style>\n",
       "<table border=\"1\" class=\"dataframe\">\n",
       "  <thead>\n",
       "    <tr style=\"text-align: right;\">\n",
       "      <th></th>\n",
       "      <th>url</th>\n",
       "      <th>name</th>\n",
       "      <th>country</th>\n",
       "      <th>genre</th>\n",
       "      <th>full_genre</th>\n",
       "      <th>status</th>\n",
       "    </tr>\n",
       "    <tr>\n",
       "      <th>id</th>\n",
       "      <th></th>\n",
       "      <th></th>\n",
       "      <th></th>\n",
       "      <th></th>\n",
       "      <th></th>\n",
       "      <th></th>\n",
       "    </tr>\n",
       "  </thead>\n",
       "  <tbody>\n",
       "    <tr>\n",
       "      <th>3540355748</th>\n",
       "      <td>https://www.metal-archives.com/bands/%DB%9E/35...</td>\n",
       "      <td>۞</td>\n",
       "      <td>United States</td>\n",
       "      <td>black</td>\n",
       "      <td>Black Metal</td>\n",
       "      <td>Split-up</td>\n",
       "    </tr>\n",
       "    <tr>\n",
       "      <th>3540353044</th>\n",
       "      <td>https://www.metal-archives.com/bands/-_-_-/354...</td>\n",
       "      <td>- - -</td>\n",
       "      <td>Sweden</td>\n",
       "      <td>black</td>\n",
       "      <td>Atmospheric Black Metal</td>\n",
       "      <td>Unknown</td>\n",
       "    </tr>\n",
       "    <tr>\n",
       "      <th>3540409614</th>\n",
       "      <td>https://www.metal-archives.com/bands/%E2%80%94...</td>\n",
       "      <td>—</td>\n",
       "      <td>China</td>\n",
       "      <td>black</td>\n",
       "      <td>Raw Black Metal</td>\n",
       "      <td>Changed name</td>\n",
       "    </tr>\n",
       "    <tr>\n",
       "      <th>3540443454</th>\n",
       "      <td>https://www.metal-archives.com/bands/%3AInfern...</td>\n",
       "      <td>:Inferno 9:</td>\n",
       "      <td>Italy</td>\n",
       "      <td>black</td>\n",
       "      <td>Black Metal</td>\n",
       "      <td>Active</td>\n",
       "    </tr>\n",
       "    <tr>\n",
       "      <th>3540469859</th>\n",
       "      <td>https://www.metal-archives.com/bands/%3AK%C3%A...</td>\n",
       "      <td>:Kælte:</td>\n",
       "      <td>Germany</td>\n",
       "      <td>black</td>\n",
       "      <td>Atmospheric Black Metal</td>\n",
       "      <td>Active</td>\n",
       "    </tr>\n",
       "  </tbody>\n",
       "</table>\n",
       "</div>"
      ],
      "text/plain": [
       "                                                          url         name  \\\n",
       "id                                                                           \n",
       "3540355748  https://www.metal-archives.com/bands/%DB%9E/35...            ۞   \n",
       "3540353044  https://www.metal-archives.com/bands/-_-_-/354...        - - -   \n",
       "3540409614  https://www.metal-archives.com/bands/%E2%80%94...            —   \n",
       "3540443454  https://www.metal-archives.com/bands/%3AInfern...  :Inferno 9:   \n",
       "3540469859  https://www.metal-archives.com/bands/%3AK%C3%A...      :Kælte:   \n",
       "\n",
       "                  country  genre               full_genre        status  \n",
       "id                                                                       \n",
       "3540355748  United States  black              Black Metal      Split-up  \n",
       "3540353044         Sweden  black  Atmospheric Black Metal       Unknown  \n",
       "3540409614          China  black          Raw Black Metal  Changed name  \n",
       "3540443454          Italy  black              Black Metal        Active  \n",
       "3540469859        Germany  black  Atmospheric Black Metal        Active  "
      ]
     },
     "metadata": {},
     "execution_count": 3
    }
   ],
   "metadata": {}
  },
  {
   "cell_type": "markdown",
   "source": [
    "## Comparison of Black and Death Genres"
   ],
   "metadata": {}
  },
  {
   "cell_type": "code",
   "execution_count": 4,
   "source": [
    "metal['genre'].value_counts()"
   ],
   "outputs": [
    {
     "output_type": "execute_result",
     "data": {
      "text/plain": [
       "death    51190\n",
       "black    41914\n",
       "Name: genre, dtype: int64"
      ]
     },
     "metadata": {},
     "execution_count": 4
    }
   ],
   "metadata": {}
  },
  {
   "cell_type": "code",
   "execution_count": 5,
   "source": [
    "fig, ax = plt.subplots(figsize=(10,6))\n",
    "sns.countplot(data=metal, x='genre', ax=ax)\n",
    "ax.set_title('Size of Black and Death Genres')\n",
    "plt.show()"
   ],
   "outputs": [
    {
     "output_type": "display_data",
     "data": {
      "image/png": "[encoded data removed]",
      "text/plain": [
       "<Figure size 720x432 with 1 Axes>"
      ]
     },
     "metadata": {
      "needs_background": "light"
     }
    }
   ],
   "metadata": {}
  },
  {
   "cell_type": "markdown",
   "source": [
    "## Countries of Origin for Metal Bands"
   ],
   "metadata": {}
  },
  {
   "cell_type": "code",
   "execution_count": 6,
   "source": [
    "metal_top_20_country = metal['country'].value_counts(ascending=False).head(20)"
   ],
   "outputs": [],
   "metadata": {}
  },
  {
   "cell_type": "code",
   "execution_count": 7,
   "source": [
    "fig, ax = plt.subplots(figsize=(10,6))\n",
    "sns.barplot(x=metal_top_20_country.index, y=metal_top_20_country, ax=ax)\n",
    "ax.set_title('Country of Origin for Black and Death Metal Bands')\n",
    "ax.set_xticklabels(metal_top_20_country.index, rotation=90)\n",
    "plt.show()"
   ],
   "outputs": [
    {
     "output_type": "display_data",
     "data": {
      "image/png": "[encoded data removed]",
      "text/plain": [
       "<Figure size 720x432 with 1 Axes>"
      ]
     },
     "metadata": {
      "needs_background": "light"
     }
    }
   ],
   "metadata": {}
  },
  {
   "cell_type": "markdown",
   "source": [
    "## What is in a bands name?\n",
    "\n",
    "There are three problems in making a GAN that takes a ficticious band name as input into the generator neural network. First, the input needs to be in a vectorized format. This presents a problem in that band names have a variable length of characters in the name. Second, band names are variable in length, which would be incompatible with the input to a neural network layer.\n",
    "\n",
    "I plan to solve the problem of vectorization in a novel way. I'll take the input string and decompose it to the ASCII character values \n",
    "\n",
    "For example, the string `black` would be vectorized as:\n",
    "\n",
    "```\n",
    "    vec = [ord(c) for c in list('black')]\n",
    "    output(vec)\n",
    "    >>> [98, 108, 97, 99, 107]\n",
    "```\n",
    "\n",
    "Then (using 10 as a set vector length),\n",
    "\n",
    "```\n",
    "    diff = 10 - len(vec)\n",
    "    for i in range(diff):\n",
    "        vec.append(0)\n",
    "    output(vec)\n",
    "    >>> [98, 108, 97, 99, 107, 0, 0, 0, 0, 0]\n",
    "```\n",
    "\n",
    "Additionally, the vectorized input should be \n"
   ],
   "metadata": {}
  },
  {
   "cell_type": "code",
   "execution_count": 8,
   "source": [
    "vec = np.array([ord(c) for c in list('black')])\n",
    "\n",
    "print(vec)"
   ],
   "outputs": [
    {
     "output_type": "stream",
     "name": "stdout",
     "text": [
      "[ 98 108  97  99 107]\n"
     ]
    }
   ],
   "metadata": {}
  },
  {
   "cell_type": "markdown",
   "source": [
    "### Length of Band Names\n",
    "\n",
    "In order to build the GAN, "
   ],
   "metadata": {}
  },
  {
   "cell_type": "code",
   "execution_count": 9,
   "source": [
    "name_lengths = metal['name'].str.len()"
   ],
   "outputs": [],
   "metadata": {}
  },
  {
   "cell_type": "code",
   "execution_count": 28,
   "source": [
    "fig, ax = plt.subplots(figsize=(16,8))\n",
    "sns.histplot(name_lengths, binwidth=1)\n",
    "ax.axvline(name_lengths.median(), color='#aeaeae')\n",
    "ax.set_title('Distribution of the character lengths of band names')\n",
    "ax.yaxis.set_visible(False)\n",
    "ax.spines['top'].set_visible(False)\n",
    "ax.spines['right'].set_visible(False)\n",
    "ax.spines['left'].set_visible(False)\n",
    "plt.show()"
   ],
   "outputs": [
    {
     "output_type": "display_data",
     "data": {
      "image/png": "[encoded data removed]",
      "text/plain": [
       "<Figure size 1152x576 with 1 Axes>"
      ]
     },
     "metadata": {
      "needs_background": "light"
     }
    }
   ],
   "metadata": {}
  },
  {
   "cell_type": "markdown",
   "source": [
    "### How many band names are under 25 characters?"
   ],
   "metadata": {}
  },
  {
   "cell_type": "code",
   "execution_count": 11,
   "source": [
    "# This number can be tweaked to find the optimal vec\n",
    "max_vec_len = 25\n",
    "\n",
    "char_limit_mask = metal['name'].str.len().lt(max_vec_len)\n",
    "char_limit_mask_len = char_limit_mask.sum()\n",
    "total = len(metal['name'])\n",
    "\n",
    "len_percent = char_limit_mask_len / total\n",
    "print(f'{len_percent:.02%} ({char_limit_mask.sum()} of {total}) of band names are less than {max_vec_len} characters.')"
   ],
   "outputs": [
    {
     "output_type": "stream",
     "name": "stdout",
     "text": [
      "99.14% (92307 of 93104) of band names are less than 25 characters.\n"
     ]
    }
   ],
   "metadata": {}
  },
  {
   "cell_type": "markdown",
   "source": [
    "### How many band names contain only ASCII alphanumeric characters?"
   ],
   "metadata": {}
  },
  {
   "cell_type": "code",
   "execution_count": 12,
   "source": [
    "# This number can be tweaked to find the optimal vec\n",
    "ascii_mask = metal['name'].apply(lambda s: s.isascii())\n",
    "ascii_mask_len = ascii_mask.sum()\n",
    "\n",
    "ascii_percent = ascii_mask_len / total\n",
    "print(f'{ascii_percent:.02%} ({ascii_mask_len} of {total}) of band names contain only ASCII characters.')"
   ],
   "outputs": [
    {
     "output_type": "stream",
     "name": "stdout",
     "text": [
      "95.96% (89345 of 93104) of band names contain only ASCII characters.\n"
     ]
    }
   ],
   "metadata": {}
  },
  {
   "cell_type": "markdown",
   "source": [
    "### How many band names are both under 25 characters **and** ASCII alphanumeric characters?"
   ],
   "metadata": {}
  },
  {
   "cell_type": "code",
   "execution_count": 13,
   "source": [
    "combined_mask = char_limit_mask & ascii_mask\n",
    "combined_mask_len = combined_mask.sum()\n",
    "\n",
    "combined_percent = combined_mask_len / total\n",
    "print(f'{combined_percent:.02%} ({combined_mask_len} of {total}) of band names meet both criteria.')"
   ],
   "outputs": [
    {
     "output_type": "stream",
     "name": "stdout",
     "text": [
      "95.14% (88580 of 93104) of band names meet both criteria.\n"
     ]
    }
   ],
   "metadata": {}
  },
  {
   "cell_type": "code",
   "execution_count": 14,
   "source": [
    "# The regex sequence [^A-Z 0-9] selects for any characters that are not (^) words (A-Z), spaces ( ), or digits (0-9).\n",
    "alnum_names = metal.loc[combined_mask, 'name'].str.upper().str.replace('[^A-Z 0-9]', '', regex=True).str.strip()\n",
    "\n",
    "blank_mask = alnum_names == ''\n",
    "\n",
    "clean_names = alnum_names[~blank_mask]\n",
    "clean_names.head(50)"
   ],
   "outputs": [
    {
     "output_type": "execute_result",
     "data": {
      "text/plain": [
       "id\n",
       "3540443454               INFERNO 9\n",
       "3540404191                   NIHUS\n",
       "33438                    AAAARRGHH\n",
       "3540439329    AND DARKNESS FOLLOWS\n",
       "231                     AND OCEANS\n",
       "3540355934                  DIESES\n",
       "3540289576            OF CELESTIAL\n",
       "82136                 ON THE NIGHT\n",
       "3540411185            SICK OF LIFE\n",
       "3540427593       UNDER A FULL MOON\n",
       "58217                          357\n",
       "3540465411                      MT\n",
       "3540332807                    NEMA\n",
       "3540477290                       O\n",
       "3540460927                   DOLCH\n",
       "20535                         VEGA\n",
       "3540410502                 OCTOBER\n",
       "3540453116                    IH8P\n",
       "3540426927                      IT\n",
       "111793                       SWORN\n",
       "3540257015            3 BROADSWORD\n",
       "3540365286                    LAIR\n",
       "3540384774                       0\n",
       "3540471393                    0NUN\n",
       "3540452035                    1013\n",
       "3540458508                    1028\n",
       "3540477583                   11034\n",
       "5763               122 STAB WOUNDS\n",
       "27489                   13 CANDLES\n",
       "19788                   13 WINTERS\n",
       "3540481836                    1347\n",
       "5575                          1349\n",
       "3540270259                    1389\n",
       "3540431224                 13KRIEG\n",
       "3540358382               13TH MOON\n",
       "3540419784             13TH TEMPLE\n",
       "3540435110                   13TRL\n",
       "3540415576                    1488\n",
       "81083                  14120912519\n",
       "3540475151                    1492\n",
       "3540405734         14WINTERKAMPF88\n",
       "3540421235                    1572\n",
       "3540488257       15YEARSINSOLITUDE\n",
       "3540481839                    1776\n",
       "3540317394                 1833 AD\n",
       "3540306841                    1837\n",
       "3540324130                    1879\n",
       "3540396156                    1914\n",
       "3540468174                    1932\n",
       "3540482426                    1941\n",
       "Name: name, dtype: object"
      ]
     },
     "metadata": {},
     "execution_count": 14
    }
   ],
   "metadata": {}
  }
 ],
 "metadata": {
  "orig_nbformat": 4,
  "language_info": {
   "name": "python",
   "version": "3.8.10",
   "mimetype": "text/x-python",
   "codemirror_mode": {
    "name": "ipython",
    "version": 3
   },
   "pygments_lexer": "ipython3",
   "nbconvert_exporter": "python",
   "file_extension": ".py"
  },
  "kernelspec": {
   "name": "python3",
   "display_name": "Python 3.8.10 64-bit ('datascience': conda)"
  },
  "interpreter": {
   "hash": "e3f3ec2076c260817e49efdbc6b3b306de22307c76198cff8d372475acecaecf"
  }
 },
 "nbformat": 4,
 "nbformat_minor": 2
}